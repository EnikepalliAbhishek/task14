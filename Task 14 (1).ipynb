{
 "cells": [
  {
   "cell_type": "markdown",
   "id": "dd9881f5",
   "metadata": {},
   "source": [
    "\n",
    "1. \n",
    "\n",
    "   - Create a lambda function that takes two arguments and returns their sum.\n",
    "   - Create another lambda function that takes a single argument and returns its square.\n",
    "   - Use the `lambda` functions to calculate the sum and square of various numbers and print the results.\n",
    "\n",
    "2. \n",
    "   - Define a list of integers.\n",
    "   - Use the `filter` function to create a new list that contains only the even numbers from the original list.\n",
    "   - Use the `filter` function again to create a new list that contains only numbers greater than 10 from the original list.\n",
    "   - Print both filtered lists.\n",
    "\n",
    "3. \n",
    "   - Define a list of strings where each string represents a number (e.g., `[\"1\", \"2\", \"3\"]`).\n",
    "   - Use the `map` function to convert each string to an integer and store the result in a new list.\n",
    "   - Use the `map` function again to square each integer in the new list and store the result in another new list.\n",
    "   - Print both new lists.\n",
    "\n",
    "4. \n",
    "   - Create a list of dictionaries, where each dictionary represents a person with keys \"name\" and \"age\". Example: ` [{\"name\": \"Alice\", \"age\": 30}, {\"name\": \"Bob\", \"age\": 25}, ...]`\n",
    "   - Use the `filter` function to create a new list that contains only the people who are older than 25.\n",
    "   - Use the `map` function to create a new list that contains the names of the filtered people.\n",
    "   - Print the list of names.\n",
    "\n",
    "5. \n",
    "   - Create a program that reads a list of numbers from the user (you can use the `input` function for this).\n",
    "   - Use `map` and `filter` functions to perform the following operations:\n",
    "     - Square each number.\n",
    "     - Filter out numbers that are not divisible by 3.\n",
    "   - Print the result.\n"
   ]
  },
  {
   "cell_type": "raw",
   "id": "0cb49db9",
   "metadata": {},
   "source": [
    "take combation of  string intergers float print only float values \n",
    "print only in string \n",
    "in replace whit a name is calles interger float vallu string"
   ]
  },
  {
   "cell_type": "code",
   "execution_count": 2,
   "id": "724136f3",
   "metadata": {},
   "outputs": [],
   "source": [
    "def abhi(n):\n",
    "    if type(n)==str:\n",
    "        return(\"string\")\n",
    "    elif type(n)==float:\n",
    "        return(\"float\")\n",
    "    elif type(n)==int:\n",
    "        return(\"integer\")"
   ]
  },
  {
   "cell_type": "code",
   "execution_count": 4,
   "id": "81927ba3",
   "metadata": {},
   "outputs": [],
   "source": [
    "n=[1,2,3,4,2.0,3.0,'hello',4.0,20,'abhi']"
   ]
  },
  {
   "cell_type": "code",
   "execution_count": 5,
   "id": "554a1de6",
   "metadata": {},
   "outputs": [
    {
     "data": {
      "text/plain": [
       "['integer',\n",
       " 'integer',\n",
       " 'integer',\n",
       " 'integer',\n",
       " 'float',\n",
       " 'float',\n",
       " 'string',\n",
       " 'float',\n",
       " 'integer',\n",
       " 'string']"
      ]
     },
     "execution_count": 5,
     "metadata": {},
     "output_type": "execute_result"
    }
   ],
   "source": [
    "list(map(abhi,n))"
   ]
  },
  {
   "cell_type": "code",
   "execution_count": null,
   "id": "a4a7f872",
   "metadata": {},
   "outputs": [],
   "source": [
    "def abhi(n):\n",
    "    if type(n)==int:\n",
    "        return(\"integer\")"
   ]
  },
  {
   "cell_type": "code",
   "execution_count": 6,
   "id": "fcae08c1",
   "metadata": {},
   "outputs": [
    {
     "data": {
      "text/plain": [
       "['integer',\n",
       " 'integer',\n",
       " 'integer',\n",
       " 'integer',\n",
       " 'float',\n",
       " 'float',\n",
       " 'string',\n",
       " 'float',\n",
       " 'integer',\n",
       " 'string']"
      ]
     },
     "execution_count": 6,
     "metadata": {},
     "output_type": "execute_result"
    }
   ],
   "source": [
    "list(map(abhi,n))"
   ]
  },
  {
   "cell_type": "code",
   "execution_count": 7,
   "id": "6529ccfa",
   "metadata": {},
   "outputs": [],
   "source": [
    "def abhi(n):\n",
    "    if type(n)==str:\n",
    "        return(\"string\")"
   ]
  },
  {
   "cell_type": "code",
   "execution_count": 8,
   "id": "719dd308",
   "metadata": {},
   "outputs": [
    {
     "data": {
      "text/plain": [
       "[None, None, None, None, None, None, 'string', None, None, 'string']"
      ]
     },
     "execution_count": 8,
     "metadata": {},
     "output_type": "execute_result"
    }
   ],
   "source": [
    "list(map(abhi,n))"
   ]
  },
  {
   "cell_type": "code",
   "execution_count": 9,
   "id": "ca17a9ce",
   "metadata": {},
   "outputs": [],
   "source": [
    "def abhi(n):\n",
    "    if type(n)==float:\n",
    "        return(\"float\")"
   ]
  },
  {
   "cell_type": "code",
   "execution_count": 10,
   "id": "cd376d11",
   "metadata": {},
   "outputs": [
    {
     "data": {
      "text/plain": [
       "[None, None, None, None, 'float', 'float', None, 'float', None, None]"
      ]
     },
     "execution_count": 10,
     "metadata": {},
     "output_type": "execute_result"
    }
   ],
   "source": [
    "list(map(abhi,n))"
   ]
  },
  {
   "cell_type": "code",
   "execution_count": 12,
   "id": "33b3df2a",
   "metadata": {},
   "outputs": [],
   "source": [
    "def abhi(n):\n",
    "    if type(n)==str:\n",
    "        return(n)"
   ]
  },
  {
   "cell_type": "code",
   "execution_count": 13,
   "id": "4dedb8cf",
   "metadata": {},
   "outputs": [
    {
     "data": {
      "text/plain": [
       "[None, None, None, None, None, None, 'hello', None, None, 'abhi']"
      ]
     },
     "execution_count": 13,
     "metadata": {},
     "output_type": "execute_result"
    }
   ],
   "source": [
    "list(map(abhi,n))"
   ]
  },
  {
   "cell_type": "code",
   "execution_count": 14,
   "id": "5cb86ff7",
   "metadata": {},
   "outputs": [],
   "source": [
    "def abhi(n):\n",
    "    if type(n)==str:\n",
    "        print(n)\n",
    "    else:\n",
    "         'continue'"
   ]
  },
  {
   "cell_type": "code",
   "execution_count": 15,
   "id": "0d0ae7bc",
   "metadata": {},
   "outputs": [
    {
     "name": "stdout",
     "output_type": "stream",
     "text": [
      "hello\n",
      "abhi\n"
     ]
    },
    {
     "data": {
      "text/plain": [
       "[None, None, None, None, None, None, None, None, None, None]"
      ]
     },
     "execution_count": 15,
     "metadata": {},
     "output_type": "execute_result"
    }
   ],
   "source": [
    "list(map(abhi,n))"
   ]
  },
  {
   "cell_type": "raw",
   "id": "ddb4df54",
   "metadata": {},
   "source": [
    "1.\n",
    "\n",
    "Create a lambda function that takes two arguments and returns their sum.\n",
    "Create another lambda function that takes a single argument and returns its square.\n",
    "Use the lambda functions to calculate the sum and square of various numbers and print the results."
   ]
  },
  {
   "cell_type": "code",
   "execution_count": 56,
   "id": "3a419120",
   "metadata": {},
   "outputs": [
    {
     "data": {
      "text/plain": [
       "30"
      ]
     },
     "execution_count": 56,
     "metadata": {},
     "output_type": "execute_result"
    }
   ],
   "source": [
    "abhi=lambda x,y:x+y\n",
    "abhi(10,20)"
   ]
  },
  {
   "cell_type": "code",
   "execution_count": 55,
   "id": "e9009c6a",
   "metadata": {},
   "outputs": [
    {
     "data": {
      "text/plain": [
       "49"
      ]
     },
     "execution_count": 55,
     "metadata": {},
     "output_type": "execute_result"
    }
   ],
   "source": [
    "c=lambda n:n**2\n",
    "c(7)"
   ]
  },
  {
   "cell_type": "code",
   "execution_count": null,
   "id": "634011aa",
   "metadata": {},
   "outputs": [],
   "source": [
    "Define a list of integers.\n",
    "Use the filter function to create a new list that contains only the even numbers from the original list.\n",
    "Use the filter function again to create a new list that contains only numbers greater than 10 from the original list.\n",
    "Print both filtered lists."
   ]
  },
  {
   "cell_type": "code",
   "execution_count": 69,
   "id": "94b88214",
   "metadata": {},
   "outputs": [],
   "source": [
    "list1=[1,2,3,4,5,6,7,8,9,10,20,30,40,50,60,]"
   ]
  },
  {
   "cell_type": "code",
   "execution_count": 76,
   "id": "1405e9a4",
   "metadata": {},
   "outputs": [],
   "source": [
    "def even(n):\n",
    "    if n%2==0:\n",
    "        print(n)"
   ]
  },
  {
   "cell_type": "code",
   "execution_count": 77,
   "id": "8ddf9726",
   "metadata": {},
   "outputs": [
    {
     "name": "stdout",
     "output_type": "stream",
     "text": [
      "2\n",
      "4\n",
      "6\n",
      "8\n",
      "10\n",
      "20\n",
      "30\n",
      "40\n",
      "50\n",
      "60\n"
     ]
    },
    {
     "data": {
      "text/plain": [
       "[]"
      ]
     },
     "execution_count": 77,
     "metadata": {},
     "output_type": "execute_result"
    }
   ],
   "source": [
    "list(filter(even,list1))"
   ]
  },
  {
   "cell_type": "code",
   "execution_count": 73,
   "id": "2d6f449f",
   "metadata": {},
   "outputs": [],
   "source": [
    "def abhi(n):\n",
    "    if n%2==0 and n<=10:\n",
    "        print(n)"
   ]
  },
  {
   "cell_type": "code",
   "execution_count": 74,
   "id": "275dc329",
   "metadata": {},
   "outputs": [
    {
     "name": "stdout",
     "output_type": "stream",
     "text": [
      "2\n",
      "4\n",
      "6\n",
      "8\n",
      "10\n"
     ]
    },
    {
     "data": {
      "text/plain": [
       "[]"
      ]
     },
     "execution_count": 74,
     "metadata": {},
     "output_type": "execute_result"
    }
   ],
   "source": [
    "list(filter(abhi,list1))"
   ]
  },
  {
   "cell_type": "raw",
   "id": "e9d2906f",
   "metadata": {},
   "source": [
    "Define a list of strings where each string represents a number (e.g., [\"1\", \"2\", \"3\"]).\n",
    "Use the map function to convert each string to an integer and store the result in a new list.\n",
    "Use the map function again to square each integer in the new list and store the result in another new list.\n",
    "Print both new lists."
   ]
  },
  {
   "cell_type": "code",
   "execution_count": 113,
   "id": "1228f104",
   "metadata": {},
   "outputs": [],
   "source": [
    "list1=[\"1\",\"2\",\"3\",\"4\",\"5\"]"
   ]
  },
  {
   "cell_type": "code",
   "execution_count": 103,
   "id": "1ff08815",
   "metadata": {},
   "outputs": [],
   "source": [
    "def string(n):\n",
    "    print('\\n',n)"
   ]
  },
  {
   "cell_type": "code",
   "execution_count": 104,
   "id": "88689b86",
   "metadata": {},
   "outputs": [
    {
     "name": "stdout",
     "output_type": "stream",
     "text": [
      "\n",
      " 1\n",
      "\n",
      " 2\n",
      "\n",
      " 3\n",
      "\n",
      " 4\n",
      "\n",
      " 5\n"
     ]
    },
    {
     "data": {
      "text/plain": [
       "[None, None, None, None, None]"
      ]
     },
     "execution_count": 104,
     "metadata": {},
     "output_type": "execute_result"
    }
   ],
   "source": [
    "list(map(string,list1))"
   ]
  },
  {
   "cell_type": "raw",
   "id": "7a799cd6",
   "metadata": {},
   "source": []
  },
  {
   "cell_type": "code",
   "execution_count": 122,
   "id": "d840f56e",
   "metadata": {},
   "outputs": [
    {
     "data": {
      "text/plain": [
       "[1, 2, 3, 4, 5]"
      ]
     },
     "execution_count": 122,
     "metadata": {},
     "output_type": "execute_result"
    }
   ],
   "source": [
    "siri = list(map(int,list1))\n",
    "siri"
   ]
  },
  {
   "cell_type": "code",
   "execution_count": null,
   "id": "b065713f",
   "metadata": {},
   "outputs": [],
   "source": []
  },
  {
   "cell_type": "code",
   "execution_count": 123,
   "id": "26461ad6",
   "metadata": {},
   "outputs": [
    {
     "name": "stdout",
     "output_type": "stream",
     "text": [
      "[1, 4, 9, 16, 25]\n"
     ]
    }
   ],
   "source": [
    "def square(n):\n",
    "    return n*n\n",
    "abhi = list(map(square,siri))\n",
    "print(abhi)"
   ]
  },
  {
   "cell_type": "raw",
   "id": "88b382e5",
   "metadata": {},
   "source": [
    "- Create a list of dictionaries, where each dictionary represents a person with keys \"name\" and \"age\". Example: ` [{\"name\": \"Alice\", \"age\": 30}, {\"name\": \"Bob\", \"age\": 25}, ...]`\n",
    "   - Use the `filter` function to create a new list that contains only the people who are older than 25.\n",
    "   - Use the `map` function to create a new list that contains the names of the filtered people.\n",
    "   - Print the list of names.\n"
   ]
  },
  {
   "cell_type": "code",
   "execution_count": 147,
   "id": "63542df1",
   "metadata": {},
   "outputs": [],
   "source": [
    "def abhi(n):\n",
    "    if n[\"age\"] > 25:\n",
    "        return n\n",
    "name=[{\"name\":\"Alice\",\"age\":30},{\"name\":\"Bob\",\"age\":25}]"
   ]
  },
  {
   "cell_type": "code",
   "execution_count": 148,
   "id": "5ff838bc",
   "metadata": {},
   "outputs": [
    {
     "name": "stdout",
     "output_type": "stream",
     "text": [
      "[{'name': 'Alice', 'age': 30}]\n"
     ]
    }
   ],
   "source": [
    "c=list(filter(abhi,name))\n",
    "print(c)"
   ]
  },
  {
   "cell_type": "raw",
   "id": "0f27841b",
   "metadata": {},
   "source": [
    "5.\n",
    "\n",
    "Create a program that reads a list of numbers from the user (you can use the input function for this).\n",
    "Use map and filter functions to perform the following operations:\n",
    "Square each number.\n",
    "Filter out numbers that are not divisible by 3.\n",
    "Print the result."
   ]
  },
  {
   "cell_type": "code",
   "execution_count": 5,
   "id": "c4833687",
   "metadata": {},
   "outputs": [
    {
     "name": "stdout",
     "output_type": "stream",
     "text": [
      "enter the number of range :: 3\n",
      "enter the number : 4\n",
      "[4]\n",
      "enter the number : 5\n",
      "[4, 5]\n",
      "enter the number : 6\n",
      "[4, 5, 6]\n"
     ]
    }
   ],
   "source": [
    "l1 = []\n",
    "n = int(input(\"enter the number of range :: \"))\n",
    "for i in range(1,n+1):\n",
    "    a=int(input(\"enter the number : \"))\n",
    "    l1.append(a)\n",
    "    print(l1)\n",
    "def b(n):\n",
    "    return (n*n)\n",
    "list1 = list(map(b,l1))"
   ]
  },
  {
   "cell_type": "code",
   "execution_count": 11,
   "id": "ed04f49f",
   "metadata": {},
   "outputs": [
    {
     "data": {
      "text/plain": [
       "[16, 25, 36]"
      ]
     },
     "execution_count": 11,
     "metadata": {},
     "output_type": "execute_result"
    }
   ],
   "source": [
    "list1"
   ]
  },
  {
   "cell_type": "code",
   "execution_count": 9,
   "id": "202c42bd",
   "metadata": {},
   "outputs": [
    {
     "name": "stdout",
     "output_type": "stream",
     "text": [
      "16\n",
      "25\n"
     ]
    },
    {
     "data": {
      "text/plain": [
       "[]"
      ]
     },
     "execution_count": 9,
     "metadata": {},
     "output_type": "execute_result"
    }
   ],
   "source": [
    "def div(n):\n",
    "    if (n % 3 != 0):\n",
    "        print (n)\n",
    "list(filter(div,list1))"
   ]
  },
  {
   "cell_type": "code",
   "execution_count": null,
   "id": "8c246d5c",
   "metadata": {},
   "outputs": [],
   "source": []
  }
 ],
 "metadata": {
  "kernelspec": {
   "display_name": "Python 3 (ipykernel)",
   "language": "python",
   "name": "python3"
  },
  "language_info": {
   "codemirror_mode": {
    "name": "ipython",
    "version": 3
   },
   "file_extension": ".py",
   "mimetype": "text/x-python",
   "name": "python",
   "nbconvert_exporter": "python",
   "pygments_lexer": "ipython3",
   "version": "3.11.4"
  }
 },
 "nbformat": 4,
 "nbformat_minor": 5
}
